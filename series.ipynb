{
 "cells": [
  {
   "cell_type": "code",
   "execution_count": 1,
   "id": "2514f8f4",
   "metadata": {},
   "outputs": [],
   "source": [
    "import numpy as np\n",
    "import pandas as pd"
   ]
  },
  {
   "cell_type": "code",
   "execution_count": 2,
   "id": "0c326520",
   "metadata": {},
   "outputs": [],
   "source": [
    "labels = ['a', 'b', 'c','d']\n",
    "my_data = [10, 20, 30, 40]\n",
    "arr = np.array(my_data)\n",
    "d = {'a':10,'b':20, 'c':30}"
   ]
  },
  {
   "cell_type": "code",
   "execution_count": 3,
   "id": "59f664c6",
   "metadata": {},
   "outputs": [
    {
     "data": {
      "text/plain": [
       "0    10\n",
       "1    20\n",
       "2    30\n",
       "3    40\n",
       "dtype: int64"
      ]
     },
     "execution_count": 3,
     "metadata": {},
     "output_type": "execute_result"
    }
   ],
   "source": [
    "pd.Series(data=my_data)"
   ]
  },
  {
   "cell_type": "code",
   "execution_count": 4,
   "id": "66816510",
   "metadata": {},
   "outputs": [
    {
     "data": {
      "text/plain": [
       "a    10\n",
       "b    20\n",
       "c    30\n",
       "d    40\n",
       "dtype: int64"
      ]
     },
     "execution_count": 4,
     "metadata": {},
     "output_type": "execute_result"
    }
   ],
   "source": [
    "pd.Series(data=my_data, index=labels)"
   ]
  },
  {
   "cell_type": "code",
   "execution_count": 5,
   "id": "18118ad0",
   "metadata": {},
   "outputs": [
    {
     "data": {
      "text/plain": [
       "5            baby\n",
       "10          young\n",
       "15    still young\n",
       "dtype: object"
      ]
     },
     "execution_count": 5,
     "metadata": {},
     "output_type": "execute_result"
    }
   ],
   "source": [
    "pd.Series(('baby','young','still young'),(5,10,15))"
   ]
  },
  {
   "cell_type": "code",
   "execution_count": 6,
   "id": "ddea1b60",
   "metadata": {},
   "outputs": [
    {
     "data": {
      "text/plain": [
       "1    10\n",
       "2    20\n",
       "4    30\n",
       "8    40\n",
       "dtype: int64"
      ]
     },
     "execution_count": 6,
     "metadata": {},
     "output_type": "execute_result"
    }
   ],
   "source": [
    "pd.Series(arr,(1,2,4,8))"
   ]
  },
  {
   "cell_type": "code",
   "execution_count": 7,
   "id": "99b6f2ec",
   "metadata": {},
   "outputs": [],
   "source": [
    "weight = {'01/01/2023': 207.4, '01/02/2023': 206.8, '01/03/2023': 209.0}"
   ]
  },
  {
   "cell_type": "code",
   "execution_count": 8,
   "id": "35d94e12",
   "metadata": {},
   "outputs": [
    {
     "data": {
      "text/plain": [
       "01/01/2023    207.4\n",
       "01/02/2023    206.8\n",
       "01/03/2023    209.0\n",
       "dtype: float64"
      ]
     },
     "execution_count": 8,
     "metadata": {},
     "output_type": "execute_result"
    }
   ],
   "source": [
    "pd.Series(weight)"
   ]
  },
  {
   "cell_type": "code",
   "execution_count": 9,
   "id": "3c7dc712",
   "metadata": {},
   "outputs": [],
   "source": [
    "ser1 = pd.Series([1,2,3,4],('USA', 'Germany', 'USSR', 'Japan'))"
   ]
  },
  {
   "cell_type": "code",
   "execution_count": 16,
   "id": "12ad5ded",
   "metadata": {},
   "outputs": [],
   "source": [
    "ser2 = pd.Series([1,2,5,4],('USA', 'Germany', 'Italy', 'Japan'))"
   ]
  },
  {
   "cell_type": "code",
   "execution_count": 17,
   "id": "6d374a74",
   "metadata": {},
   "outputs": [
    {
     "data": {
      "text/plain": [
       "Germany    4.0\n",
       "Italy      NaN\n",
       "Japan      8.0\n",
       "USA        2.0\n",
       "USSR       NaN\n",
       "dtype: float64"
      ]
     },
     "execution_count": 17,
     "metadata": {},
     "output_type": "execute_result"
    }
   ],
   "source": [
    "ser1 + ser2"
   ]
  },
  {
   "cell_type": "code",
   "execution_count": null,
   "id": "ff30feee",
   "metadata": {},
   "outputs": [],
   "source": []
  }
 ],
 "metadata": {
  "kernelspec": {
   "display_name": "Python 3 (ipykernel)",
   "language": "python",
   "name": "python3"
  },
  "language_info": {
   "codemirror_mode": {
    "name": "ipython",
    "version": 3
   },
   "file_extension": ".py",
   "mimetype": "text/x-python",
   "name": "python",
   "nbconvert_exporter": "python",
   "pygments_lexer": "ipython3",
   "version": "3.9.12"
  }
 },
 "nbformat": 4,
 "nbformat_minor": 5
}
