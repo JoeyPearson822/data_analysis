{
 "cells": [
  {
   "cell_type": "code",
   "execution_count": 1,
   "id": "aaca661c",
   "metadata": {},
   "outputs": [],
   "source": [
    "import numpy as np\n",
    "import pandas as pd\n",
    "from numpy.random import randint"
   ]
  },
  {
   "cell_type": "code",
   "execution_count": 2,
   "id": "a70f3f45",
   "metadata": {},
   "outputs": [],
   "source": [
    "outside = ['Player Character', 'Player Character', 'Non-player Character', 'Non-player Character', 'Non-player Character', 'Non-player Character']\n",
    "inside = ['Joey', 'Jon', 'Creeper', 'Slendy', 'Dragon', 'Zombie']\n",
    "hier_index = list(zip(outside, inside))\n",
    "hier_index = pd.MultiIndex.from_tuples(hier_index)"
   ]
  },
  {
   "cell_type": "code",
   "execution_count": 3,
   "id": "f88aa3c4",
   "metadata": {},
   "outputs": [],
   "source": [
    "df = pd.DataFrame(randint(1, 21, size=(6,6)),hier_index,['STR', 'CON', 'DEX', 'INT', 'WIS', 'CHA'])"
   ]
  },
  {
   "cell_type": "code",
   "execution_count": 4,
   "id": "45aa77e2",
   "metadata": {},
   "outputs": [
    {
     "data": {
      "text/html": [
       "<div>\n",
       "<style scoped>\n",
       "    .dataframe tbody tr th:only-of-type {\n",
       "        vertical-align: middle;\n",
       "    }\n",
       "\n",
       "    .dataframe tbody tr th {\n",
       "        vertical-align: top;\n",
       "    }\n",
       "\n",
       "    .dataframe thead th {\n",
       "        text-align: right;\n",
       "    }\n",
       "</style>\n",
       "<table border=\"1\" class=\"dataframe\">\n",
       "  <thead>\n",
       "    <tr style=\"text-align: right;\">\n",
       "      <th></th>\n",
       "      <th></th>\n",
       "      <th>STR</th>\n",
       "      <th>CON</th>\n",
       "      <th>DEX</th>\n",
       "      <th>INT</th>\n",
       "      <th>WIS</th>\n",
       "      <th>CHA</th>\n",
       "    </tr>\n",
       "  </thead>\n",
       "  <tbody>\n",
       "    <tr>\n",
       "      <th rowspan=\"2\" valign=\"top\">Player Character</th>\n",
       "      <th>Joey</th>\n",
       "      <td>19</td>\n",
       "      <td>16</td>\n",
       "      <td>8</td>\n",
       "      <td>5</td>\n",
       "      <td>2</td>\n",
       "      <td>6</td>\n",
       "    </tr>\n",
       "    <tr>\n",
       "      <th>Jon</th>\n",
       "      <td>4</td>\n",
       "      <td>1</td>\n",
       "      <td>11</td>\n",
       "      <td>19</td>\n",
       "      <td>13</td>\n",
       "      <td>18</td>\n",
       "    </tr>\n",
       "    <tr>\n",
       "      <th rowspan=\"4\" valign=\"top\">Non-player Character</th>\n",
       "      <th>Creeper</th>\n",
       "      <td>13</td>\n",
       "      <td>14</td>\n",
       "      <td>1</td>\n",
       "      <td>13</td>\n",
       "      <td>1</td>\n",
       "      <td>2</td>\n",
       "    </tr>\n",
       "    <tr>\n",
       "      <th>Slendy</th>\n",
       "      <td>16</td>\n",
       "      <td>10</td>\n",
       "      <td>4</td>\n",
       "      <td>18</td>\n",
       "      <td>8</td>\n",
       "      <td>14</td>\n",
       "    </tr>\n",
       "    <tr>\n",
       "      <th>Dragon</th>\n",
       "      <td>20</td>\n",
       "      <td>18</td>\n",
       "      <td>14</td>\n",
       "      <td>8</td>\n",
       "      <td>11</td>\n",
       "      <td>8</td>\n",
       "    </tr>\n",
       "    <tr>\n",
       "      <th>Zombie</th>\n",
       "      <td>10</td>\n",
       "      <td>3</td>\n",
       "      <td>2</td>\n",
       "      <td>5</td>\n",
       "      <td>4</td>\n",
       "      <td>8</td>\n",
       "    </tr>\n",
       "  </tbody>\n",
       "</table>\n",
       "</div>"
      ],
      "text/plain": [
       "                              STR  CON  DEX  INT  WIS  CHA\n",
       "Player Character     Joey      19   16    8    5    2    6\n",
       "                     Jon        4    1   11   19   13   18\n",
       "Non-player Character Creeper   13   14    1   13    1    2\n",
       "                     Slendy    16   10    4   18    8   14\n",
       "                     Dragon    20   18   14    8   11    8\n",
       "                     Zombie    10    3    2    5    4    8"
      ]
     },
     "execution_count": 4,
     "metadata": {},
     "output_type": "execute_result"
    }
   ],
   "source": [
    "df"
   ]
  },
  {
   "cell_type": "code",
   "execution_count": 6,
   "id": "aa58cdc3",
   "metadata": {},
   "outputs": [
    {
     "data": {
      "text/plain": [
       "STR    19\n",
       "CON    16\n",
       "DEX     8\n",
       "INT     5\n",
       "WIS     2\n",
       "CHA     6\n",
       "Name: Joey, dtype: int64"
      ]
     },
     "execution_count": 6,
     "metadata": {},
     "output_type": "execute_result"
    }
   ],
   "source": [
    "df.loc['Player Character'].loc['Joey']"
   ]
  },
  {
   "cell_type": "code",
   "execution_count": 9,
   "id": "e3626cbc",
   "metadata": {},
   "outputs": [
    {
     "data": {
      "text/plain": [
       "STR    13\n",
       "CON    14\n",
       "DEX     1\n",
       "INT    13\n",
       "WIS     1\n",
       "CHA     2\n",
       "Name: Creeper, dtype: int64"
      ]
     },
     "execution_count": 9,
     "metadata": {},
     "output_type": "execute_result"
    }
   ],
   "source": [
    "df.loc['Non-player Character'].loc['Creeper']"
   ]
  },
  {
   "cell_type": "code",
   "execution_count": null,
   "id": "6f3c8b5e",
   "metadata": {},
   "outputs": [],
   "source": []
  }
 ],
 "metadata": {
  "kernelspec": {
   "display_name": "Python 3 (ipykernel)",
   "language": "python",
   "name": "python3"
  },
  "language_info": {
   "codemirror_mode": {
    "name": "ipython",
    "version": 3
   },
   "file_extension": ".py",
   "mimetype": "text/x-python",
   "name": "python",
   "nbconvert_exporter": "python",
   "pygments_lexer": "ipython3",
   "version": "3.9.12"
  }
 },
 "nbformat": 4,
 "nbformat_minor": 5
}
